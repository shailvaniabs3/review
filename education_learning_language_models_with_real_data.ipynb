{
  "nbformat": 4,
  "nbformat_minor": 0,
  "metadata": {
    "kernelspec": {
      "display_name": "Python 3",
      "language": "python",
      "name": "python3"
    },
    "language_info": {
      "codemirror_mode": {
        "name": "ipython",
        "version": 3
      },
      "file_extension": ".py",
      "mimetype": "text/x-python",
      "name": "python",
      "nbconvert_exporter": "python",
      "pygments_lexer": "ipython3",
      "version": "3.6.6"
    },
    "colab": {
      "name": "education-learning-language-models-with-real-data.ipynb",
      "provenance": []
    }
  },
  "cells": [
    {
      "cell_type": "markdown",
      "metadata": {
        "_uuid": "b1835cef4defb3025bd36336d8867ac3ffdee6d2",
        "id": "wNHI0Ogc5x0m"
      },
      "source": [
        "# Language Models (LMs)\n",
        "\n",
        "#### Jan 2019\n",
        "#### Philip Osborne \n",
        "#### version 1.0\n",
        "\n",
        "\n",
        "See the corresponding Medium post for a full write-up with complete examples. Some of these code cells have been reduced in complexity to save run time which effects the output.\n",
        "\n",
        "https://medium.com/@philiposbornedata/learning-nlp-language-models-with-real-data-cdff04c51c25\n",
        "\n",
        "--------------------"
      ]
    },
    {
      "cell_type": "markdown",
      "metadata": {
        "_uuid": "6ddee5b3d2a749befa951b32e22767d038f7a9b5",
        "id": "uoZD1mq25x0p"
      },
      "source": [
        "#### Enable equation numbering in jupyter notebook for improved readability:"
      ]
    },
    {
      "cell_type": "code",
      "metadata": {
        "trusted": true,
        "_uuid": "2b257b8e1fb6232e8c9032f54cd7d54de0411971",
        "id": "nTdqtAK95x0q"
      },
      "source": [
        "%%javascript\n",
        "MathJax.Hub.Config({\n",
        "    TeX: { equationNumbers: { autoNumber: \"AMS\" } }\n",
        "});"
      ],
      "execution_count": null,
      "outputs": []
    },
    {
      "cell_type": "markdown",
      "metadata": {
        "_uuid": "424523adaaf5c655bfedc0182b5902eab784ed05",
        "id": "6zWUwcVd5x0y"
      },
      "source": [
        "# Introduction\n",
        "\n",
        "\n",
        "# Part 1\n",
        "--- \n",
        "## I. Probabilistic Language Models\n",
        "\n",
        "### Example uses\n",
        "- **Machine Translation:** P(**high** winds tonight) > P(**large** winds tonight)\n",
        "- **Spell Correction:** P(...about fifteen **minutes** from...) > P(...about fifteen **mineuts** from...)\n",
        "- **Speech Recognition:** P(I saw a van) >> P(eyes awe of an)\n",
        "\n",
        "### Aim of Language Models\n",
        "The goal of paobabilistic language modelling is to calculate the probability of a sentence of sequence of words: \n",
        "\n",
        "\\begin{equation}\n",
        "    P(W) = P(w_1,w_2,w_3,...,w_n)\n",
        "\\end{equation}\n",
        "\n",
        "and can be used to find the probability of the next word in the sequence:\n",
        "\n",
        "\\begin{equation}\n",
        "    P(w_5|w_1,w_2,w_3,w_4)\n",
        "\\end{equation}\n",
        "\n",
        "a model that computes either of these is called a **language model (LM)**.\n",
        "\n",
        "---\n",
        "## II. Initial Method for Calcualting Probabilities\n",
        "\n",
        "### Defn: Conditional Probability\n",
        "Let A and B be two events with $P(B) \\neq 0$, the conditional probability of A given B is:\n",
        "\n",
        "\\begin{equation}\n",
        "    P(A|B) = \\frac{P(A,B)}{P(B)}\n",
        "\\end{equation}\n",
        "\n",
        "### Defn: Chain Rule\n",
        "\\begin{equation}\n",
        "    P(x_1,x_2,...,x_n) = P(x_1)P(x_2|x_1)...P(x_n|x_1,...,x_{n-1})\n",
        "\\end{equation}\n",
        "\n",
        "#### The Chain Rule applied to compute the join probability of words in a sentence:\n",
        "\\begin{equation}\n",
        "    P(w_1 w_2 ... w_n) = \\prod_{i} P(w_i|w_1 w_2 ... w_{i-1})\n",
        "\\end{equation}\n",
        "\n",
        "e.g. \n",
        "\n",
        "P(\"its water is so transparent\") =\n",
        "    \n",
        "    P(its)xP(water|its) \n",
        "    x P(is|its water) \n",
        "    x P(so|its water is) \n",
        "    x P(transparent|its water is so)\n",
        "\n",
        "#### Can we estimate this by simply counting and dividing the results by the following?\n",
        "\\begin{equation}\n",
        "    P(transparent|its \\ water \\ is \\ so) = \\frac{count(its \\ water \\ is \\ so \\ transparent)}{count(its \\ water \\ is \\ so)}  \n",
        "\\end{equation}\n",
        "#### NO! Far to many possible sentences that would need to be calculated, we would never have enough data to achieve this.\n",
        "\n",
        "\n",
        "---\n",
        "## III. Methods using the Markov Assumption\n",
        "\n",
        "### Defn: Markov Property\n",
        "\n",
        "*A stochastic process has the Markov property if the conditional probability distribution of future states of the process (conditional on both past and present states) depends only upon the present state, not on the sequence of events that preceded it. A process with this property is called a Markov process.* [1]\n",
        "\n",
        "In other words, the probability of the next word can be estimated given only the previous $k$ number of words.\n",
        "\n",
        "e.g. \n",
        "\n",
        "\\begin{equation}\n",
        "    P(transparent|its \\ water \\ is \\ so) \\approx P(transparent|so) \n",
        "\\end{equation}\n",
        "or\n",
        "\n",
        "\n",
        "\\begin{equation}\n",
        "    P(transparent|its \\ water \\ is \\ so) \\approx P(transparent|is \\ so) \n",
        "\\end{equation}\n",
        "\n",
        "#### General Equation for the Markov Assumption\n",
        "\n",
        "\n",
        "\\begin{equation}\n",
        "    P(w_i|w_1 w_2 ... w_{i-1}) \\approx P(w_i|w_{i-k} ... w_{i-1})\n",
        "\\end{equation}\n",
        "where k is the number of words in the 'state' to be defined by the user.\n",
        "\n",
        "\n",
        "### Unigram Model (k=1)\n",
        "\n",
        "\\begin{equation}\n",
        "    P(w_1 w_2 ... w_n) \\approx \\prod_{i} P(w_i)\n",
        "\\end{equation}\n",
        "\n",
        "### Bigram Model (k=2)\n",
        "\n",
        "\\begin{equation}\n",
        "    P(w_i|w_1 w_2 ... w_{i-1}) \\approx P(w_i|w_{i-1})\n",
        "\\end{equation}\n",
        "\n",
        "\n",
        "---\n",
        "## IV. N-gram Models (k=n)\n",
        "\n",
        "The previous two equations can be extended to compute trigrams, 4-grams, 5-grams, etc. In general, this is an insufficient model of language because **sentences often have long distance dependencies**. For example, the subject of the sentence may be at the start whilst our next word to be predicited occurs more than 10 words later.\n",
        "\n",
        "### Estimating Bigram Probabilities using the Maximum Likelihood Estimate\n",
        "\\begin{equation}\n",
        "    P(w_i|w_{i-1}) = \\frac{count(w_{i-1},w_i)}{count(w_{i-1})}\n",
        "\\end{equation}\n",
        "\n",
        "#### Small Example\n",
        "\n",
        "Three sentences:\n",
        "\n",
        "- <s I am Sam /s>\n",
        "- <s Sam I am /s>\n",
        "- <s I do not like green eggs and ham /s>\n",
        "\n",
        "\\begin{equation}\n",
        "P(I|<s) = \\frac{count(<s,I)}{count(<s)} = \\frac{2}{3}\n",
        "\\end{equation}\n",
        "\n",
        "\n",
        "\\begin{equation}\n",
        "P(am|I) = \\frac{count(I,am)}{count(I)} = \\frac{2}{3}\n",
        "\\end{equation}\n",
        "\n",
        "\n",
        "\n",
        "[1] https://en.wikipedia.org/wiki/Markov_property\n",
        "\n"
      ]
    },
    {
      "cell_type": "markdown",
      "metadata": {
        "_uuid": "bb74bfeaac27650e72620e6ebb475613f95d4723",
        "id": "QqBIV1uk5x0z"
      },
      "source": [
        "# Example with Real Data\n",
        "\n",
        "\n",
        "### Import Packages and IMDB Movie Review Data [2]\n",
        "\n",
        "\n",
        "[2] http://ai.stanford.edu/~amaas/data/sentiment/"
      ]
    },
    {
      "cell_type": "code",
      "metadata": {
        "trusted": true,
        "_uuid": "9cd80f8a81a242bbcf33eb7a34a11e7166123aea",
        "id": "Emj0v2Ar5x00"
      },
      "source": [
        "import requests\n",
        "import time\n",
        "\n",
        "import xml.etree.ElementTree as ET\n",
        "import pandas as pd\n",
        "import numpy as np\n",
        "import math\n",
        "import matplotlib.pyplot as plt\n",
        "import re\n",
        "import glob\n",
        "import random\n",
        "import seaborn as sns\n",
        "import string\n",
        "\n",
        "from IPython.display import clear_output\n",
        "\n",
        "# Hide warnings\n",
        "import warnings\n",
        "warnings.filterwarnings('ignore')\n",
        "\n",
        "# http://www.nltk.org/howto/wordnet.html\n",
        "\n",
        "from nltk.corpus import wordnet as wn\n",
        "from nltk.corpus import stopwords\n",
        "from nltk.wsd import lesk"
      ],
      "execution_count": null,
      "outputs": []
    },
    {
      "cell_type": "code",
      "metadata": {
        "trusted": true,
        "_uuid": "6e149741273a31c11199b7ff13f0bc206fbba22b",
        "id": "1zkBP9or5x06"
      },
      "source": [
        "# Location of test/train data files on local computer, data downloaded directly from Stanford source[2]\n",
        "#test_dir = '/Users/philiposborne/Documents/Written Notes/Learning Notes/IMDB Reviews/IMDB Data/test'\n",
        "#train_dir = '/Users/philiposborne/Documents/Written Notes/Learning Notes/IMDB Reviews/IMDB Data/train'\n",
        "\n",
        "data = pd.read_csv('../input/imdb_master.csv',encoding=\"latin-1\")\n"
      ],
      "execution_count": null,
      "outputs": []
    },
    {
      "cell_type": "code",
      "metadata": {
        "trusted": true,
        "_uuid": "4745f6ecc74e7949791b7cb848da96f63f218600",
        "id": "-3gkU5n15x0_"
      },
      "source": [
        "# Select only training data\n",
        "data = data[data['type']=='train'].reset_index(drop=True)"
      ],
      "execution_count": null,
      "outputs": []
    },
    {
      "cell_type": "code",
      "metadata": {
        "trusted": true,
        "_uuid": "413f1a19a7cf6cdc5acd0a6e539dc43b7a03cf6c",
        "id": "VILcncqd5x1D"
      },
      "source": [
        "print('Number of comments in data:', len(data))\n",
        "\n",
        "data = data[0:1000]\n",
        "\n",
        "print('Number of comments left in data after removal:', len(data))"
      ],
      "execution_count": null,
      "outputs": []
    },
    {
      "cell_type": "code",
      "metadata": {
        "trusted": true,
        "_uuid": "2223f25afaa0befbdcdadf126eb5cf97a7953c27",
        "id": "Ud0fEE5l5x1H"
      },
      "source": [
        "train_data = data"
      ],
      "execution_count": null,
      "outputs": []
    },
    {
      "cell_type": "code",
      "metadata": {
        "trusted": true,
        "_uuid": "d5983ce05d75e59722313854824e84a554bbca29",
        "id": "OxiH7mZZ5x1O"
      },
      "source": [
        "# Data import written as a function:\n",
        "# Replace test and train dir with correct path for file saved on local computer\n",
        "# Data files are downloaded from reference link above where main file name is changed to IMDB Data\n",
        "\n",
        "# This function converts the raw files form the original Stanford source into csv files.\n",
        "\"\"\"\n",
        "def IMDB_to_csv(directory):    \n",
        "    data = pd.DataFrame()\n",
        "    \n",
        "    for filename in glob.glob(str(directory)+'/neg/*.txt'):\n",
        "        with open(filename, 'r',  encoding=\"utf8\") as f:\n",
        "            content = f.readlines()\n",
        "            content_table = pd.DataFrame({'id':filename.split('_')[0].split('/')[-1],'rating':filename.split('_')[1].split('.')[0],'pol':'neg', 'text':content})\n",
        "        data = data.append(content_table)\n",
        "        \n",
        "    for filename in glob.glob(str(directory)+'/pos/*.txt'):\n",
        "        with open(filename, 'r',  encoding=\"utf8\") as f:\n",
        "            content = f.readlines()\n",
        "            content_table = pd.DataFrame({'id':filename.split('_')[0].split('/')[-1],'rating':filename.split('_')[1].split('.')[0],'pol':'pos', 'text':content})\n",
        "        data = data.append(content_table)\n",
        "    data = data.sort_values(['pol','id'])\n",
        "    data = data.reset_index(drop=True)\n",
        "    #data['rating_norm'] = (data['rating'] - data['rating'].min())/( data['rating'].max() - data['rating'].min() )\n",
        "\n",
        "    return(data)\n",
        "\n",
        "train_data = IMDB_to_csv(train_dir)\n",
        "\"\"\""
      ],
      "execution_count": null,
      "outputs": []
    },
    {
      "cell_type": "code",
      "metadata": {
        "trusted": true,
        "_uuid": "dd7e94ad97f64d2a4be4c1f45360fa0bd315a590",
        "id": "5oM4un0j5x1R"
      },
      "source": [
        "train_data.columns = ['id', 'dataset', 'text', 'pol','file']\n",
        "train_data.head()"
      ],
      "execution_count": null,
      "outputs": []
    },
    {
      "cell_type": "markdown",
      "metadata": {
        "_uuid": "9527b60b7c8af259cb6eaee652d7e1efb119e44f",
        "id": "QgxPGpaN5x1V"
      },
      "source": [
        "### We reduce the number of rows in our training corpus for learning purposes as the models take a substantial amout of time otherwise."
      ]
    },
    {
      "cell_type": "markdown",
      "metadata": {
        "_uuid": "fc0ad024d9b510d965f8a8677a98215efe9fb527",
        "id": "sABAb9NP5x1W"
      },
      "source": [
        "## Data Pre-processing\n",
        "\n",
        "### 1. Convert full text comment into individual sentences"
      ]
    },
    {
      "cell_type": "markdown",
      "metadata": {
        "_uuid": "76c82bd68614fe7226e1b0d78a6b6f18ad42dbae",
        "id": "boFRlPxa5x1W"
      },
      "source": [
        "#### We can break the full text down into its individual sentences using the following:"
      ]
    },
    {
      "cell_type": "code",
      "metadata": {
        "trusted": true,
        "_uuid": "e5944b5d6e961d8a33b0647f648374a8ce633c52",
        "id": "-1ftvP1r5x1X"
      },
      "source": [
        "train_data['text'][0].split('.')"
      ],
      "execution_count": null,
      "outputs": []
    },
    {
      "cell_type": "markdown",
      "metadata": {
        "_uuid": "401a7f1f5dc55cef8cd517956f4cf9450e0d0af4",
        "id": "hMmMr_lC5x1a"
      },
      "source": [
        "#### And can reference individual setences via indexing. We can also find the total number of sentences for each comment but it appears that the last setence is always blank. Therefore, when we use this in our loop, we reduce the upper index bound by 1 to account for this.\n"
      ]
    },
    {
      "cell_type": "code",
      "metadata": {
        "trusted": true,
        "_uuid": "bc296ded292e2483e5665018e1220be4ad364e2c",
        "id": "jcC7Dr7Y5x1b"
      },
      "source": [
        "train_data['text'][0].split('.')[0]"
      ],
      "execution_count": null,
      "outputs": []
    },
    {
      "cell_type": "code",
      "metadata": {
        "trusted": true,
        "_uuid": "2fb7e9a850fee4b60d2f92fb6adfcdf846639d73",
        "id": "xet31pIv5x1g"
      },
      "source": [
        "len(train_data['text'][0].split('.'))"
      ],
      "execution_count": null,
      "outputs": []
    },
    {
      "cell_type": "code",
      "metadata": {
        "trusted": true,
        "_uuid": "4a5a17721f51d819621b56e913bee478dbcd39f1",
        "id": "ZuQ_3LG65x1k"
      },
      "source": [
        "train_data['text'][0].split('.')[8]"
      ],
      "execution_count": null,
      "outputs": []
    },
    {
      "cell_type": "markdown",
      "metadata": {
        "_uuid": "72f56feffe81febc1fa1ce873e26032bd9385cf9",
        "id": "ecJ0tCpx5x1o"
      },
      "source": [
        "#### Using these, we break down our full commments into individual sentences. I have also introduced some methods for tracking and timing the progress of our for loops, for more info on these see the following:\n",
        "\n",
        "[PhilipOsborneData.com link](https://www.philiposbornedata.com/2018/06/28/the-simplest-cleanest-method-for-tracking-a-for-loops-progress-and-expected-run-time-in-python-notebooks/)\n",
        "\n",
        "[Medium.com link](https://towardsdatascience.com/the-simplest-cleanest-method-for-tracking-a-for-loops-progress-and-expected-run-time-in-python-972675392b3)\n",
        "    "
      ]
    },
    {
      "cell_type": "code",
      "metadata": {
        "trusted": true,
        "_uuid": "8c96d8e1dfea5b482af969f2c1084fcbf9f25819",
        "id": "wLpuYnbM5x1p"
      },
      "source": [
        "train_data_sent = pd.DataFrame()\n",
        "\n",
        "start_time = time.time()\n",
        "for index in train_data.index:\n",
        "    data_row = train_data.iloc[index,:]\n",
        "\n",
        "    for sent_id in range(0,len(data_row['text'].split('.'))-1):\n",
        "        sentence = data_row['text'].split('.')[sent_id]\n",
        "        # Form a row in a dataframe for this setence that captures the words and keeps ids and polarity scores\n",
        "        # We must pass an arbitrary index which we then reset to show unique numbers\n",
        "        sentence_row = pd.DataFrame({\n",
        "                                     'id':data_row['id'],\n",
        "                                     'pol':data_row['pol'],\n",
        "                                     'sent_id':sent_id,\n",
        "                                     'sentence':sentence}, index = [index]) \n",
        "        \n",
        "        # Form full table that has rows for all sentences\n",
        "        train_data_sent = train_data_sent.append(sentence_row)\n",
        "    \n",
        "    \n",
        "    # Outputs progress of main loop, see:\n",
        "    clear_output(wait=True)\n",
        "    print('Proportion of comments completed:', np.round(index/len(train_data),4)*100,'%')\n",
        "    \n",
        "end_time = time.time()\n",
        "print('Total run time = ', np.round(end_time-start_time,2)/60, ' minutes')\n",
        "# Reset index so that each index value is a unique number\n",
        "train_data_sent = train_data_sent.reset_index(drop=True)\n",
        "        "
      ],
      "execution_count": null,
      "outputs": []
    },
    {
      "cell_type": "code",
      "metadata": {
        "trusted": true,
        "_uuid": "9a9a699da02c4304b4f557598b02c258185db9ca",
        "id": "pnhU6CRB5x1s"
      },
      "source": [
        "train_data_sent.head()"
      ],
      "execution_count": null,
      "outputs": []
    },
    {
      "cell_type": "markdown",
      "metadata": {
        "_uuid": "e9cab007b16558d430674891b1af2968aeb34a24",
        "id": "9zjMmrzq5x1y"
      },
      "source": [
        "#### To simplify the process we remove all grammer and lowercase all words in the sentences.\n",
        "\n",
        "#### We also add the string '<s' and '/s>' to the start and end of each sentence respectively so that we can find which words start and complete the sentences. "
      ]
    },
    {
      "cell_type": "code",
      "metadata": {
        "trusted": true,
        "_uuid": "5eeac34f4af019098a75715a9ef1e15a9837ad03",
        "id": "CkPhjZCy5x1y"
      },
      "source": [
        "train_data_sent['sentence_clean'] = train_data_sent['sentence'].str.replace('[{}]'.format(string.punctuation), '')\n",
        "train_data_sent['sentence_clean'] = train_data_sent['sentence_clean'].str.lower()\n",
        "\n",
        "train_data_sent['sentence_clean'] = '<s ' + train_data_sent['sentence_clean']\n",
        "train_data_sent['sentence_clean'] = train_data_sent['sentence_clean'] + ' /s>'\n",
        "\n",
        "train_data_sent.head()"
      ],
      "execution_count": null,
      "outputs": []
    },
    {
      "cell_type": "code",
      "metadata": {
        "trusted": true,
        "_uuid": "02c69856f30ec1186f88ed85d0cdede174de1212",
        "id": "XJ85XjFC5x12"
      },
      "source": [
        "text = train_data_sent['sentence_clean']\n",
        "text_list = \" \".join(map(str, text))\n",
        "text_list[0:100]"
      ],
      "execution_count": null,
      "outputs": []
    },
    {
      "cell_type": "markdown",
      "metadata": {
        "_uuid": "c76b1ee523271717083396531480620b91796d2f",
        "id": "Ay7AS4t95x16"
      },
      "source": [
        "#### Find the occurence of each word and use this to find the probability of occurence of each word"
      ]
    },
    {
      "cell_type": "code",
      "metadata": {
        "trusted": true,
        "_uuid": "a41f7ef24e1993ecd187c9937c5ef3d742348679",
        "id": "NRDKE4RK5x17"
      },
      "source": [
        "word_list = pd.DataFrame({'words':text.str.split(' ', expand = True).stack().unique()})"
      ],
      "execution_count": null,
      "outputs": []
    },
    {
      "cell_type": "code",
      "metadata": {
        "trusted": true,
        "_uuid": "ab0f6694c3bf5b4716efdf3a9d4c64b8cfd2b48b",
        "id": "_mKXvC7q5x2A"
      },
      "source": [
        "word_count_table = pd.DataFrame()\n",
        "for n,word in enumerate(word_list['words']):\n",
        "    # Create a list of just the word we are interested in, we use regular expressions so that part of words do not count\n",
        "    # e.g. 'ear' would be counted in each appearance of the word 'year'\n",
        "    word_count = len(re.findall(' ' + word + ' ', text_list))  \n",
        "    word_count_table = word_count_table.append(pd.DataFrame({'count':word_count}, index=[n]))\n",
        "    \n",
        "    clear_output(wait=True)\n",
        "    print('Proportion of words completed:', np.round(n/len(word_list),4)*100,'%')\n",
        "\n",
        "word_list['count'] = word_count_table['count']\n",
        "# Remove the count for the start and end of sentence notation so \n",
        "# that these do not inflate the other probabilities\n",
        "word_list['count'] = np.where(word_list['words'] == '<s' , 0,\n",
        "                     np.where(word_list['words'] == '/s>', 0,\n",
        "                     word_list['count']))"
      ],
      "execution_count": null,
      "outputs": []
    },
    {
      "cell_type": "code",
      "metadata": {
        "trusted": true,
        "_uuid": "36fcc15a5e4270c40a789466c6e2ba8d5223510f",
        "id": "GO4Pxxx55x2E"
      },
      "source": [
        "word_list['prob'] = word_list['count']/sum(word_list['count'])\n",
        "word_list.head()"
      ],
      "execution_count": null,
      "outputs": []
    },
    {
      "cell_type": "markdown",
      "metadata": {
        "_uuid": "aaf585f68b32a23cd20f81f1177a15f2f793ae65",
        "id": "RqD1cPzv5x2H"
      },
      "source": [
        "---\n",
        "---"
      ]
    },
    {
      "cell_type": "markdown",
      "metadata": {
        "_uuid": "8b09ee693248dfd044f54d47dbf08b7a7160ec98",
        "id": "uaF3Mube5x2I"
      },
      "source": [
        "### Unigram Model (k=1): $P(w_1 w_2 ... w_n) \\approx \\prod_{i} P(w_i)$\n",
        "\n",
        "To apply this we can simply lookup the probability of each word in the sentence and then calculate the multiplicative product of these probabilities.\n",
        "\n",
        "**Note for this notebook, I have reduced the number of items considered so that it runs in good time**\n"
      ]
    },
    {
      "cell_type": "code",
      "metadata": {
        "trusted": true,
        "_uuid": "d166d5571574ca6127409fc378355ded65ebc55e",
        "id": "-u5q-PKO5x2I"
      },
      "source": [
        "unigram_table = pd.DataFrame()\n",
        "\n",
        "start_time = time.time()\n",
        "# Loop through each sentence\n",
        "# REMOVE ROW LIMIT FOR FULL RUN\n",
        "for index in train_data_sent[0:200].index:\n",
        "    data_row = train_data_sent.iloc[index,:]\n",
        "\n",
        "    sent_probs = pd.DataFrame()\n",
        "    # Go through each word in the sentence, lookup the probability of the word and \n",
        "    # then find the mulitplicitive product of all probabilities in the sentence.\n",
        "    for n,word in enumerate(data_row['sentence_clean']):\n",
        "        sent_probs = sent_probs.append(pd.DataFrame({'prob':word_list[ word_list['words']==word]['prob']}, index = [n]))\n",
        "    unigram = sent_probs['prob'].prod(axis=0)\n",
        "    \n",
        "    # Create a list of unigram calculation for each sentence\n",
        "    unigram_table = unigram_table.append(pd.DataFrame({'unigram':unigram},index = [index]))\n",
        "    \n",
        "    clear_output(wait=True)\n",
        "    print('Proportion of sentences completed:', np.round(index/len(train_data_sent),4)*100,'%')\n",
        "        \n",
        "end_time = time.time()\n",
        "print('Total run time = ', np.round(end_time-start_time,2)/60, ' minutes')\n",
        "\n",
        "train_data_sent['unigram'] = unigram_table['unigram']"
      ],
      "execution_count": null,
      "outputs": []
    },
    {
      "cell_type": "code",
      "metadata": {
        "trusted": true,
        "_uuid": "c3ed706fa1e7d5b76f7835c9f36dd3a21dc7dfc4",
        "id": "oT6rRP1T5x2L"
      },
      "source": [
        "base_time = end_time-start_time"
      ],
      "execution_count": null,
      "outputs": []
    },
    {
      "cell_type": "code",
      "metadata": {
        "trusted": true,
        "_uuid": "099416078d04dddd269e88aeab741b33b3059c5f",
        "id": "fYey8swM5x2O"
      },
      "source": [
        "unigram_table.head(10)"
      ],
      "execution_count": null,
      "outputs": []
    },
    {
      "cell_type": "markdown",
      "metadata": {
        "_uuid": "36784550ba503183168b46ad2792d0199b6b1bff",
        "id": "MUmnrhJO5x2R"
      },
      "source": [
        "We can use logarithm space as addition is faster computationally than multiplications. \n",
        "\n",
        "As by log rules: $log(P1xP2xP3) = log(P1) + log(P2) + log(P3)$"
      ]
    },
    {
      "cell_type": "code",
      "metadata": {
        "trusted": true,
        "_uuid": "c5ef765636e25d4ba0d305f313e127f54d9f887f",
        "id": "fGNwHF2_5x2S"
      },
      "source": [
        "unigram_table_log = pd.DataFrame()\n",
        "\n",
        "start_time_log = time.time()\n",
        "# Loop through each sentence\n",
        "# REMOVE ROW LIMIT FOR FULL RUN\n",
        "for index in train_data_sent[0:200].index:\n",
        "    data_row = train_data_sent.iloc[index,:]\n",
        "\n",
        "    sent_probs = pd.DataFrame()\n",
        "    # Go through each word in the sentence, lookup the probability of the word and \n",
        "    # then find the mulitplicitive product of all probabilities in the sentence.\n",
        "    for n,word in enumerate(data_row['sentence_clean']):\n",
        "        log_prob = np.log10(word_list[ word_list['words']==word]['prob'])\n",
        "        sent_probs = sent_probs.append(pd.DataFrame({'log_prob':log_prob}, index = [n]))\n",
        "        \n",
        "    unigram_log = sum(sent_probs['log_prob'])\n",
        "    \n",
        "    # Create a list of unigram calculation for each sentence\n",
        "    unigram_table_log = unigram_table.append(pd.DataFrame({'unigram_log':unigram_log},index = [index]))\n",
        "                                         \n",
        "    clear_output(wait=True)\n",
        "    print('Proportion of sentences completed:', np.round(index/len(train_data_sent),4)*100,'%')\n",
        "                                                                   \n",
        "end_time_log = time.time()\n",
        "print('Total run time = ', np.round(end_time_log-start_time_log,2)/60, ' minutes')\n",
        "\n",
        "#train_data_sent['unigram_log'] = unigram_table_log['unigram_log']"
      ],
      "execution_count": null,
      "outputs": []
    },
    {
      "cell_type": "code",
      "metadata": {
        "trusted": true,
        "_uuid": "ae90f0bbe15986f5feca3da7f08dde90c3863a06",
        "id": "Sujt6fmq5x2W"
      },
      "source": [
        "log_time = end_time_log - start_time_log"
      ],
      "execution_count": null,
      "outputs": []
    },
    {
      "cell_type": "code",
      "metadata": {
        "trusted": true,
        "_uuid": "723cbb698e9148f0ec9ca0c683e5cd3aa359bd26",
        "id": "i1bhtDP-5x2a"
      },
      "source": [
        "print('The log base 10 method takes approximately ', np.round((log_time)/base_time,4)*100, '% of the time of the orginal calculation.')"
      ],
      "execution_count": null,
      "outputs": []
    },
    {
      "cell_type": "markdown",
      "metadata": {
        "_uuid": "47719d6169db5460d1c0324da7a90c31e09601c7",
        "id": "pcGo0P-t5x2d"
      },
      "source": [
        "#### The unigram model can be similarly used to find the estimated probability of two (or more words) occuring in sequence.\n",
        "\n",
        "For example, we can compute the probability of words 'to' and 'a' occuring:"
      ]
    },
    {
      "cell_type": "code",
      "metadata": {
        "trusted": true,
        "_uuid": "d95d7cea37837831afb2f87086b1287a0a97f516",
        "id": "SOXlksVJ5x2d"
      },
      "source": [
        "word_1 = 'to'\n",
        "word_2 = 'a'\n",
        "\n",
        "prob_word_1 = word_list[word_list['words'] == word_1]['prob'].iloc[0]\n",
        "prob_word_2 = word_list[word_list['words'] == word_2]['prob'].iloc[0]\n",
        "\n",
        "unigram_prob = prob_word_1*prob_word_2\n",
        "\n",
        "print('The unigram probability of the word \"a\" occuring given the word \"to\" was the previous word is: ', np.round(unigram_prob,10))"
      ],
      "execution_count": null,
      "outputs": []
    },
    {
      "cell_type": "markdown",
      "metadata": {
        "_uuid": "c495ac606aa6cfae572557b777af8d68ff051076",
        "id": "60iKG4NS5x2h"
      },
      "source": [
        "### Bigram Model (k=2): $P(w_i|w_1 w_2 ... w_{i-1}) \\approx P(w_i|w_{i-1})$\n",
        "\n",
        "Applying this is somewhat more complex, first we find the co-occurances of each word into a word-word matrix. The counts are normalised by the counts of the previous word: \n",
        "\n",
        "\\begin{equation}\n",
        "P(w_i|w_{i-1}) \\approx \\frac{count(w_{i-1},w_i)}{count(w_{i-1})}\n",
        "\\end{equation}\n"
      ]
    },
    {
      "cell_type": "markdown",
      "metadata": {
        "_uuid": "f4ee40ece42850eb9a4b4397f7f633bde079d158",
        "id": "gSOPYRY65x2i"
      },
      "source": [
        "So, for example, if we wanted to find the P(a|to) we first count the occurances of (to,a) and divide this by the count of (to):\n"
      ]
    },
    {
      "cell_type": "code",
      "metadata": {
        "trusted": true,
        "_uuid": "c64023c3547e2094d0dc87152f762ac846bd93c8",
        "id": "lO7IwHlR5x2j"
      },
      "source": [
        "word_1 = ' ' + str('to') + ' '\n",
        "word_2 = str('a') + ' '\n",
        "\n",
        "bigram_prob = len(re.findall(word_1 + word_2, text_list)) / len(re.findall(word_1, text_list)) \n",
        "\n",
        "print('The probability of the word \"a\" occuring given the word \"to\" was the previous word is: ', np.round(bigram_prob,5))"
      ],
      "execution_count": null,
      "outputs": []
    },
    {
      "cell_type": "markdown",
      "metadata": {
        "_uuid": "67225eb7e7181e2a5b6b6c01cbc9a07d26ed3aee",
        "id": "mv6TMYrL5x2p"
      },
      "source": [
        "and likewise, if we change the previous word to 'has':"
      ]
    },
    {
      "cell_type": "code",
      "metadata": {
        "trusted": true,
        "_uuid": "635dead133cdcd7bda0ec66a07386f3c199dddd2",
        "id": "eOxuotZB5x2q"
      },
      "source": [
        "word_1 = ' ' + str('has') + ' '\n",
        "word_2 = str('a') + ' '\n",
        "\n",
        "bigram_prob = len(re.findall(word_1 + word_2, text_list)) / len(re.findall(word_1, text_list)) \n",
        "\n",
        "print('The probability of the word \"a\" occuring given the word \"has\" was the previous word is: ', np.round(bigram_prob,5))"
      ],
      "execution_count": null,
      "outputs": []
    },
    {
      "cell_type": "markdown",
      "metadata": {
        "_uuid": "15e9e09357e3809ab637171922a966352f998e95",
        "id": "fnU1XUcY5x2t"
      },
      "source": [
        "We can repeat this calculation for all word pairs to find the most likely word to follow the given word. This of course takes an exceptional amount of time and it may be better to compute this for words as required rather than attempting to do it for all. "
      ]
    },
    {
      "cell_type": "code",
      "metadata": {
        "trusted": true,
        "_uuid": "8ed1219f3b80132badb089b512e82c34499599ec",
        "id": "QbB8cXA_5x2t"
      },
      "source": [
        "W_W_Matrix = pd.DataFrame({'words': word_list['words']})\n",
        "\n",
        "start_time = time.time()\n",
        "\n",
        "\n",
        "# Add limits to number of columns/rows so this doesn't run for ages\n",
        "column_lim = 1000\n",
        "#column_lim = len(W_W_Matrix)\n",
        "row_lim = 10\n",
        "#row_lim = len(W_W_Matrix)\n",
        "\n",
        "for r, column in enumerate(W_W_Matrix['words'][0:column_lim]):\n",
        "    \n",
        "    prob_table = pd.DataFrame()\n",
        "    for i, row in enumerate(W_W_Matrix['words'][0:row_lim]):\n",
        "\n",
        "        word_1 = ' ' + str(row) + ' '\n",
        "        word_2 = str(column) + ' '\n",
        "\n",
        "        if len(re.findall(word_1, text_list)) == 0:\n",
        "            prob = pd.DataFrame({'prob':[0]}, index=[i])\n",
        "        else:\n",
        "            prob = pd.DataFrame({'prob':[len(re.findall(word_1 + word_2, text_list)) / len(re.findall(word_1, text_list)) ]}, index=[i])\n",
        "        \n",
        "        prob_table = prob_table.append(prob)\n",
        "    W_W_Matrix[str(column)] = prob_table['prob']\n",
        "    \n",
        "    # Outputs progress of main loop, see:\n",
        "    clear_output(wait=True)\n",
        "    print('Proportion of column words completed:', np.round(r/len(W_W_Matrix[0:column_lim]),2)*100,'%')\n",
        "    \n",
        "end_time = time.time()\n",
        "print('Total run time = ', np.round(end_time-start_time,2)/60, ' minutes')\n"
      ],
      "execution_count": null,
      "outputs": []
    },
    {
      "cell_type": "code",
      "metadata": {
        "trusted": true,
        "_uuid": "0bdb518573504bb2ef127cf234ef7cb5f2928526",
        "id": "PEqPuZ425x2x"
      },
      "source": [
        "W_W_Matrix[W_W_Matrix['a'] >= 0]"
      ],
      "execution_count": null,
      "outputs": []
    },
    {
      "cell_type": "code",
      "metadata": {
        "trusted": true,
        "_uuid": "b2f808721044035de262470e8677d70a91bdb0aa",
        "id": "0bRwVrQ25x2z"
      },
      "source": [
        "for i in range(0,row_lim):\n",
        "    plt.bar(W_W_Matrix.iloc[i,1:].sort_values(ascending=False)[1:10].index,W_W_Matrix.iloc[i,1:].sort_values(ascending=False)[1:10].values)\n",
        "    plt.title('Most Common Words that Follow the word: ' +str(W_W_Matrix.iloc[i,0]))\n",
        "    plt.show()"
      ],
      "execution_count": null,
      "outputs": []
    },
    {
      "cell_type": "markdown",
      "metadata": {
        "_uuid": "1bacb80d628d327e7623ade5b5de22bbb3499f49",
        "id": "DKN_CoSV5x23"
      },
      "source": [
        "These can be used to form sentences, if we calculate the bigram probabilities 'on the fly' we can find the next most likely word for the given word. To ensure that different sentences are form, we vary the selected colmuns randomly.\n",
        "\n",
        "Fixing the start and end of the sentence to be the respective <s and /s> notations, we form the following:\n",
        "\n",
        "**NOTE I have made the word cap very small as this takes a significant time to run (2 hours for 5 words) but an example output is shown.**\n"
      ]
    },
    {
      "cell_type": "code",
      "metadata": {
        "trusted": true,
        "_uuid": "86a8f5af682b0980255d73211fd70069646a989a",
        "id": "yga6iSFN5x24"
      },
      "source": [
        "W_W_Matrix = pd.DataFrame({'words': word_list['words']})\n",
        "\n",
        "start_time = time.time()\n",
        "\n",
        "text_list = \" \".join(map(str, text))\n",
        "\n",
        "# Increasing these take significant time to run but provide more realistic sentences\n",
        "num_sentences = 1\n",
        "sentence_word_limit = 1\n",
        "\n",
        "#extract start and end of sentence notation so that they are always included\n",
        "sentence_forms = W_W_Matrix[(W_W_Matrix['words']=='<s') | (W_W_Matrix['words']=='/s>')]['words']\n",
        "\n",
        "sentences_output = pd.DataFrame()\n",
        "for sample in range(0,num_sentences):\n",
        "    \n",
        "    sentence = pd.DataFrame()\n",
        "    \n",
        "    for i in range(0,sentence_word_limit):\n",
        "        # if this is the first word, fix it to be start of sentence notation else take output of previous iteration\n",
        "        if (i==0):\n",
        "            current_word = str('<s')\n",
        "        # Randomly select first word after sentence start\n",
        "        elif (i==1):\n",
        "            current_word = str(W_W_Matrix[(W_W_Matrix['words']!='<s') ]['words'].sample(1, axis=0).iloc[0])\n",
        "        else:\n",
        "            current_word = next_word\n",
        "        \n",
        "        sentence['word_'+str(i)] = [current_word]\n",
        "        # if we have reached end of sentence, add this sentence to output table and break loop to start new sentence\n",
        "        if (current_word==str('/s>')):\n",
        "            sentences_output = sentences_output.append(sentence)\n",
        "            break   \n",
        "        else:\n",
        "            \n",
        "            prob_table = pd.DataFrame()\n",
        "\n",
        "            # randomly select other words form rest of list\n",
        "            for r, column in enumerate(W_W_Matrix[(W_W_Matrix['words']!='<s') ]['words'].reset_index(drop=True)):\n",
        "\n",
        "                next_words = str(column)\n",
        "\n",
        "\n",
        "\n",
        "                if len(re.findall(' ' + current_word + ' ', text_list)) == 0:\n",
        "                    prob = pd.DataFrame({'word':str(column),\n",
        "                        'prob':[0]}, index=[i])\n",
        "                else:\n",
        "                    prob = pd.DataFrame({'word':str(column),\n",
        "                        'prob':[len(re.findall(' ' + current_word + ' ' + next_words + ' ', text_list)) / len(re.findall(' ' + current_word + ' ', text_list)) ]}, index=[i])\n",
        "\n",
        "                prob_table = prob_table.append(prob)\n",
        "                # We can reduce the probability of the sentence ending so that we return longer sentences\n",
        "                reduce_end_prob = 0.5\n",
        "                prob_table['prob'] = np.where(prob_table['word']=='/s>', prob_table['prob']*reduce_end_prob,prob_table['prob'])\n",
        "                # next word is most probable of this given the current word\n",
        "                next_word = prob_table[prob_table['prob'] == max(prob_table['prob'])]['word'].reset_index(drop=True).iloc[0]\n",
        "                \n",
        "                # Outputs progress of main loop:\n",
        "                clear_output(wait=True)\n",
        "                print(\"Sentence number: \",sample+1)\n",
        "                print(\"Words completed in current sentence:\",i+1)\n",
        "                print('Proportion of column words completed:', np.round(r/len(W_W_Matrix),2)*100,'%')\n",
        "\n",
        "        \n",
        "end_time = time.time()\n",
        "print('Total run time = ', np.round(end_time-start_time,2)/60, ' minutes')\n"
      ],
      "execution_count": null,
      "outputs": []
    },
    {
      "cell_type": "code",
      "metadata": {
        "trusted": true,
        "_uuid": "575625cd62cf268862fb79e2677f319cddfb9ea6",
        "id": "9d-qZFF95x26"
      },
      "source": [
        "for i in range(1,num_sentences):\n",
        "    print('Sentence ',i,':',sentences_output.iloc[i].values)"
      ],
      "execution_count": null,
      "outputs": []
    },
    {
      "cell_type": "markdown",
      "metadata": {
        "_uuid": "d4900e20e2555f245e8196b16a4b94e7d8a04da2",
        "id": "mMPisw785x2-"
      },
      "source": [
        "Sample output sentence:\n",
        "\n",
        "Sentence  0 : ['<s' 'root' 'for' 'the' 'movie' '/s>']\n",
        "\n",
        "and we can manually explore each probability, for example:\n"
      ]
    },
    {
      "cell_type": "code",
      "metadata": {
        "trusted": true,
        "_uuid": "12ab6f16479b73a186d1398ddede8bc9d729f972",
        "id": "R61qToPK5x2-"
      },
      "source": [
        "word_1 = str('movie')\n",
        "word_2 = str('/s>') \n",
        "\n",
        "bigram_prob = len(re.findall(' ' + word_1 + ' ' + word_2 + ' ', text_list)) / len(re.findall(' ' + word_1 + ' ', text_list))\n",
        "\n",
        "\n",
        "print('The probability of the word \"',word_2,'\" occuring given the word \"',word_1,'\" was the previous word is: ', (bigram_prob))"
      ],
      "execution_count": null,
      "outputs": []
    },
    {
      "cell_type": "markdown",
      "metadata": {
        "_uuid": "d6f3ba9ad05f40cb142e62f5ce27579c848b89f7",
        "id": "o2zl14NI5x3C"
      },
      "source": [
        "### Tri-grams and beyond!\n",
        "\n",
        "If we continue the estimation equation for trigrams, we have the following:\n",
        "\n",
        "\\begin{equation}\n",
        "    P(x_3|x_1,x_2) \\approx \\frac{count(x_1,x_2,x_3)}{count(x_1,x_2)}\n",
        "\\end{equation}"
      ]
    },
    {
      "cell_type": "code",
      "metadata": {
        "trusted": true,
        "_uuid": "2ced499b53c302cee7277c6223cc5c9d9e5c938c",
        "id": "7_TFshfE5x3C"
      },
      "source": [
        "word_1 = str('to')\n",
        "word_2 = str('a') \n",
        "word_3 = str('movie')\n",
        "\n",
        "trigram_prob = (len(re.findall(' ' + word_1 + ' ' + word_2 + ' ' + word_3 + ' ', text_list)) / \n",
        "                    len(re.findall(' ' + word_1 + ' ' + word_2, text_list)))\n",
        "\n",
        "\n",
        "print('The probability of the word \"',word_3,'\" occuring given the word \"',word_1,'\" and \"',word_2,'\" were the previous two words is: ', (trigram_prob))"
      ],
      "execution_count": null,
      "outputs": []
    },
    {
      "cell_type": "code",
      "metadata": {
        "trusted": true,
        "_uuid": "96f7918ac959bf9774aa27e39ed6bc8ac75c2618",
        "id": "Du_xx6ud5x3F"
      },
      "source": [
        "word_1 = str('to')\n",
        "word_2 = str('a') \n",
        "word_3 = str('film')\n",
        "\n",
        "trigram_prob = (len(re.findall(' ' + word_1 + ' ' + word_2 + ' ' + word_3 + ' ', text_list)) / \n",
        "                    len(re.findall(' ' + word_1 + ' ' + word_2, text_list)))\n",
        "\n",
        "\n",
        "print('The probability of the word \"',word_3,'\" occuring given the word \"',word_1,'\" and \"',word_2,'\" were the previous two words is: ', (trigram_prob))"
      ],
      "execution_count": null,
      "outputs": []
    },
    {
      "cell_type": "markdown",
      "metadata": {
        "_uuid": "8b9dc934f5b05db930907f7a275b24fc538bb1f0",
        "id": "4wl3ASxs5x3I"
      },
      "source": [
        "#### Therefore, trigram phrase 'to a movie' is used more commonly than 'to a film' and is the choice our algorithm would take when forming sentences.\n",
        "\n",
        "The code to systemtically find the most likely next word and form sentences with trigrams can be repeated following the previous bigram computations. "
      ]
    },
    {
      "cell_type": "markdown",
      "metadata": {
        "_uuid": "a1ff042443614ba53e97d90352dc71dcd4127e67",
        "id": "Zl4nNx_B5x3J"
      },
      "source": [
        "---\n",
        "---\n",
        "# Part 2\n",
        "---\n",
        "## V. Training and Testing the Language Models (LMs)\n",
        "\n",
        "The corpus used to train our LMs will impact the output predictions. Therefore we need to introduce a methodology for evaluating how well our trained LMs perform. The best trained LM is the one that can correctly predict the next word of setences in an unseen test set.\n",
        "\n",
        "This can be time consuming, to build multiple LMs for comparison could take hours to compute. Therefore, we introduce the intrinsic evaluation method of **perplexity**. In short perplexity is a measure of how well a probability distribution or probability model predicts a sample. [3]\n",
        "\n",
        "### Defn: Perplexity\n",
        "\n",
        "Perplexity is the inverse probability of the test set normalised by the number of words, more specifically can be defined by the following equation:\n",
        "\n",
        "\\begin{equation}\n",
        "    PP(W) = P(w_1 w_2 ... w_N)^{\\frac{-1}{N}}\n",
        "\\end{equation}\n",
        "\n",
        "e.g. Suppose a sentence consists of random digits [0-9], what is the perplexit of this sentence by a model that asigns an equal probability (i.e. $P = 1/10$) to each digit?\n",
        "\n",
        "\\begin{equation}\n",
        "    PP(W) = (\\frac{1}{10}*\\frac{1}{10}*...*\\frac{1}{10})^{\\frac{-1}{10}} = (\\frac{1}{10}^{10} )^{\\frac{-1}{10}} = \\frac{1}{10}^{-1} = 10\n",
        "\\end{equation}\n",
        "\n",
        "\n",
        "--\n",
        "## VI. Entropy in Mechanics and Information Theory\n",
        "\n",
        "In mechanics, Boltsmann defined the entropy of a system is related to the natural log of the number of microstates:\n",
        "\n",
        "\\begin{equation}\n",
        "    S = klnW \\ where \\ k = 1.3x10^{-23}\n",
        "\\end{equation}\n",
        "\n",
        "W is the number of microstates and is calculated by:\n",
        "\n",
        "\\begin{equation}\n",
        "    W = n^x\n",
        "\\end{equation}\n",
        "\n",
        "where n is the number of positions and x is the number of molecules.\n",
        "\n",
        "\n",
        "In Information Theory, entropy (denoted $H(X)$) of a random variable X is the expected log probabiltiy:\n",
        "\n",
        "\\begin{equation}\n",
        "    H(X) = - \\sum P(x)log_2 P(x)\n",
        "\\end{equation}\n",
        "\n",
        "and is a measure of uncertainty. [4]\n",
        "\n",
        "#### In other words, entropy is the number of possible states that a system can be.\n",
        "\n",
        "### Entropy of a bias coin toss\n",
        "\n",
        "Say we have the probabilities of heads and tails in a coin toss defined by:\n",
        "\n",
        "- $P(heads) = p$\n",
        "- $P(tails) = 1-p$\n",
        "\n",
        "Then the entropy of this is:\n",
        "\n",
        "\\begin{equation}\n",
        "    H(X) = - \\sum P(x)log_2 P(x) = -[plog_2 p + (1-p)log_2 (1-p)]\n",
        "\\end{equation}\n",
        "\n",
        "If the coin is fair, i.e. p = 0.5, then we have:\n",
        "\n",
        "\\begin{equation}\n",
        "    H(X) = -[0.5log_2 0.5 + (1-0.5)log_2 (1-0.5)] = -[-0.5-0.5] = 1\n",
        "\\end{equation}\n",
        "\n",
        "The full entropy distibution over varying bias probabilities is shown below.\n",
        "\n",
        "\n",
        "[3] https://en.wikipedia.org/wiki/Perplexity\n",
        "[4] https://en.wikipedia.org/wiki/Entropy_(information_theory)"
      ]
    },
    {
      "cell_type": "code",
      "metadata": {
        "trusted": true,
        "_uuid": "0a15bc4b84668aa31090ace7a9fd618f8ef86ea3",
        "id": "3M_OpfBD5x3K"
      },
      "source": [
        "p = [0,0.1,0.2,0.3,0.4,0.5,0.6,0.7,0.8,0.9,1]\n",
        "H = [-(p*np.log2(p) + (1-p)*np.log(1-p)) for p in p]\n",
        "# Replace nan output with 0 \n",
        "H = [0 if math.isnan(x) else x for x in H]\n",
        "\n",
        "plt.plot(p,H)\n",
        "plt.xlim([-0.05,1.05])\n",
        "plt.ylim([-0.05,1])\n",
        "plt.xlabel('Probability of Heads (p)')\n",
        "plt.ylabel('Entropy (H(p))')\n",
        "plt.title('The Entropy of a Bias Coin as \\n the Probabilitiy of Heads Varies')"
      ],
      "execution_count": null,
      "outputs": []
    },
    {
      "cell_type": "markdown",
      "metadata": {
        "_uuid": "168eaa775ad2c043dcf2c9ce9db6ad0166d70719",
        "id": "QenbfLWq5x3O"
      },
      "source": [
        "---\n",
        "## VII. Entropy of Language\n",
        "\n",
        "### 1. Entropy of a sequence of words:\n",
        "\n",
        "\\begin{equation}\n",
        "    H(w_1 w_2 ... w_n) = - \\sum_{w_1...wn} P(w_1 ... w_n) log_2 P(w_1 ... w_n)\n",
        "\\end{equation}\n",
        "\n",
        "### 2. The per-word entropy rate of a sequence of words\n",
        "\n",
        "\\begin{equation}\n",
        "    \\frac{1}{n} H(w_1 w_2 ... w_n) = \\frac{-1}{n} \\sum_{w1...wn} P(w_1 ... w_n) log_2 P(w_1 ... w_n),2)\n",
        "\\end{equation}\n",
        "\n",
        "### 3. Entropy of a language $L = \\{w_1 ... w_n | 1 < n < \\infty\\}$:\n",
        "\n",
        "\\begin{equation}\n",
        "    H(L) = - \\lim_{n\\to\\infty} \\frac{1}{n} H(w_1 ... w_n)\n",
        "\\end{equation}\n",
        "\n",
        "\n",
        "### Defn: Cross Entropy\n",
        "\n",
        "The cross entropy, H(p,m), of a true distribution **p** and a model distribution **m** is defined as:\n",
        "\n",
        "\\begin{equation}\n",
        "    H(p,m) = - \\sum_{x} p(x) log_2 m(x)\n",
        "\\end{equation}\n",
        "\n",
        "The lower the cross entropy is the closer it is to the true distribution.\n",
        "\n",
        "### Defn: Cross Entropy of a Sequence of Words\n",
        "\n",
        "\\begin{equation}\n",
        "    H(p,m) = - \\lim_{n\\to\\infty} \\frac{1}{n} \\sum_{w1...wn} p(w_1 ... w_n) log_2 m(w_1 ... w_n)\n",
        "\\end{equation}\n",
        "\n",
        "---\n",
        "## VIII. Perplexity and Entropy\n",
        "\n",
        "\\begin{equation}\n",
        "PP(w_1 ... w_N) = 2^{H(w_1 ... w_N)}\n",
        "\\end{equation}\n",
        "\n",
        "\n"
      ]
    },
    {
      "cell_type": "code",
      "metadata": {
        "trusted": true,
        "_uuid": "43f68246af269e4aebd2f0fd884a0096fa91af82",
        "id": "fl6TYOYi5x3O"
      },
      "source": [
        "sent_1 = text.iloc[0]\n",
        "sent_2 = text.iloc[1]\n",
        "\n",
        "print('Sentence 1', sent_1)\n",
        "print('--.--.--.--.--.--.--.--')\n",
        "print('Sentence 2', sent_2)"
      ],
      "execution_count": null,
      "outputs": []
    },
    {
      "cell_type": "code",
      "metadata": {
        "trusted": true,
        "_uuid": "f19a0c629e9e6b6eefc9ebf4ff023b663eb88ece",
        "id": "1rG4fRW35x3T"
      },
      "source": [
        "data_prob = word_list[['words','count','prob']]\n",
        "data_prob.head()"
      ],
      "execution_count": null,
      "outputs": []
    },
    {
      "cell_type": "code",
      "metadata": {
        "trusted": true,
        "_uuid": "0e91667b0b31e36ad3f5a2d9c56f6d7d7988bb3d",
        "id": "mh4Kiy7_5x3Z"
      },
      "source": [
        "def entropy(sentence, data_prob):\n",
        "    entropy_table = pd.DataFrame()\n",
        "    for n,word in enumerate(sentence.split(' ')):\n",
        "        # log2(0) provide nan so return 0 instead\n",
        "        if ((data_prob[data_prob['words']==word]['prob'].iloc[0]) == 0):\n",
        "            entropy = 0\n",
        "        else:\n",
        "            prob = data_prob[data_prob['words']==word]['prob'].iloc[0]\n",
        "            entropy = prob*np.log2(prob)\n",
        "        entropy_table = entropy_table.append(pd.DataFrame({'word':word,\n",
        "                                                            'entropy':entropy}, index = [n]))\n",
        "    phrase_entropy = -1*sum(entropy_table['entropy'])\n",
        "    return(phrase_entropy)"
      ],
      "execution_count": null,
      "outputs": []
    },
    {
      "cell_type": "code",
      "metadata": {
        "trusted": true,
        "_uuid": "c9ad8410ecc1980099c1d165453e45cdc9d2ea44",
        "id": "cvcXmkrL5x3f"
      },
      "source": [
        "sent_1_entropy = entropy(sent_1,data_prob)\n",
        "sent_2_entropy = entropy(sent_2,data_prob)\n",
        "\n",
        "print('Sentence 1: ', sent_1)\n",
        "print('Sentence 1 entropy: ', np.round(sent_1_entropy,5))\n",
        "print('Per-word Sentence 1 entropy: ', np.round(sent_1_entropy/len(sent_1.split(' ')),5))\n",
        "\n",
        "print('--.--.--.--.--.--.--.--')\n",
        "print('Sentence 2: ', sent_2)\n",
        "print('Sentence 2 entropy: ', np.round(sent_2_entropy,5))\n",
        "print('Per-word Sentence 2 entropy: ', np.round(sent_2_entropy/len(sent_2.split(' ')),5))\n"
      ],
      "execution_count": null,
      "outputs": []
    },
    {
      "cell_type": "markdown",
      "metadata": {
        "_uuid": "bec64ffc7c41760f6e3a381d30df78a78b16a35d",
        "id": "0LH9_dMV5x3k"
      },
      "source": [
        "### Likewise, we can calculate the perplexity of each sentence:"
      ]
    },
    {
      "cell_type": "code",
      "metadata": {
        "trusted": true,
        "_uuid": "b22e4d3bcf2b6c2a2da7dfa8ddf686232118d540",
        "id": "ATfBbyZC5x3l"
      },
      "source": [
        "sent_1_perplex = 2**sent_1_entropy\n",
        "sent_2_perplex = 2**sent_2_entropy\n",
        "\n",
        "print('Sentence 1: ', sent_1)\n",
        "print('Sentence 1 entropy: ', np.round(sent_1_entropy,5))\n",
        "print('Per-word Sentence 1 entropy: ', np.round(sent_1_entropy/len(sent_1.split(' ')),5))\n",
        "print('Sentence 1 Perplexity: ', sent_1_perplex)\n",
        "\n",
        "print('--.--.--.--.--.--.--.--')\n",
        "print('Sentence 2: ', sent_2)\n",
        "print('Sentence 2 entropy: ', np.round(sent_2_entropy,5))\n",
        "print('Per-word Sentence 2 entropy: ', np.round(sent_2_entropy/len(sent_2.split(' ')),5))\n",
        "print('Sentence 2 Perplexity: ', sent_2_perplex)\n"
      ],
      "execution_count": null,
      "outputs": []
    },
    {
      "cell_type": "markdown",
      "metadata": {
        "_uuid": "b9bc74cdcf96eb2d8ff526f1dde208642107c94d",
        "id": "92UmuQF25x3q"
      },
      "source": [
        "Which we can use to find the probability of the whole sentence as:\n",
        "    \n",
        "\\begin{equation}\n",
        "    PP(W) = P(w_1 w_2 ... w_N)^{\\frac{-1}{N}}\n",
        "\\end{equation}\n"
      ]
    },
    {
      "cell_type": "code",
      "metadata": {
        "trusted": true,
        "_uuid": "863cb0f03ebc6d9b58822ab72bebfbaf365abf35",
        "id": "n3VwGG8q5x3r"
      },
      "source": [
        "sent_1_prob = (1/sent_1_perplex)**len(sent_1.split(' '))\n",
        "sent_2_prob = (1/sent_2_perplex)**len(sent_2.split(' '))\n",
        "\n",
        "print('Sentence 1 Probability: ', '%0.10f' % sent_1_prob)\n",
        "print('Sentence 2 Probability: ', '%0.10f' % sent_2_prob  )"
      ],
      "execution_count": null,
      "outputs": []
    },
    {
      "cell_type": "markdown",
      "metadata": {
        "_uuid": "61b5b1a57c390967790e34a84995b6f4c3fbb1d9",
        "id": "s93Mw3Ao5x3t"
      },
      "source": [
        "---\n",
        "---\n",
        "\n",
        "# Part 3\n",
        "---\n",
        "## Challenges in Fitting LMs\n",
        "\n",
        "Due to the output of LMs is dependent on the training corpus, N-grams only work well if the training corpus is similar to the testing dataset and we risk overfitting in training. \n",
        "\n",
        "As with any machine learning method, we would like results that are generalisable to new information. \n",
        "\n",
        "Even harder is how we deal with words that do not even appear in training but are in the test data. \n",
        "\n",
        "## IX. Dealing with Zero Counts in Training: Laplace +1 Smoothing\n",
        "\n",
        "To deal with words that are unseen in training we can introduce add-one smoothing. To do this, we simply add one to the count of each word.\n",
        "\n",
        "This shifts the distribution slightly and is often used in text classification and domains where the number of zeros isn't large. However, this is not often used for n-grams, instead we use more complex methods. \n",
        "\n",
        "\n"
      ]
    },
    {
      "cell_type": "markdown",
      "metadata": {
        "_uuid": "f9be750af77b10bafa6466217d4405acfaf8b3f3",
        "id": "MvORwAAG5x3u"
      },
      "source": [
        "First, let us create a dummy training corpus and test set from the original data:"
      ]
    },
    {
      "cell_type": "code",
      "metadata": {
        "trusted": true,
        "_uuid": "46a26efb6296e79676e6a5a81053219423dcc133",
        "id": "4lVMTZ_X5x3u"
      },
      "source": [
        "train_data_sent.head()"
      ],
      "execution_count": null,
      "outputs": []
    },
    {
      "cell_type": "code",
      "metadata": {
        "trusted": true,
        "_uuid": "9459cfcd8d2cddbea4262deea9f351668ad75438",
        "id": "l9wywK195x3y"
      },
      "source": [
        "corpus = train_data_sent['sentence_clean'][:int(np.round(len(train_data_sent)*0.9,0))]\n",
        "test = train_data_sent['sentence_clean'][int(np.round(len(train_data_sent)*0.9,0))+1:]\n",
        "\n",
        "corpus_list = \" \".join(map(str, corpus))\n",
        "test_list = \" \".join(map(str, test))\n"
      ],
      "execution_count": null,
      "outputs": []
    },
    {
      "cell_type": "code",
      "metadata": {
        "trusted": true,
        "_uuid": "434e674b75e9d9ffcea58d3f744f52c100052f2f",
        "id": "-QQ1-Sxz5x31"
      },
      "source": [
        "# Corpus word probabilities\n",
        "corpus_word_list = pd.DataFrame({'words':corpus.str.split(' ', expand = True).stack().unique()})\n",
        "corpus_word_count_table = pd.DataFrame()\n",
        "for n,word in enumerate(corpus_word_list['words']):\n",
        "    # Create a list of just the word we are interested in, we use regular expressions so that part of words do not count\n",
        "    # e.g. 'ear' would be counted in each appearance of the word 'year'\n",
        "    corpus_word_count = len(re.findall(' ' + word + ' ', corpus_list))  \n",
        "    corpus_word_count_table = corpus_word_count_table.append(pd.DataFrame({'count':corpus_word_count}, index=[n]))\n",
        "    \n",
        "    clear_output(wait=True)\n",
        "    print('Proportion of words completed:', np.round(n/len(corpus_word_list),4)*100,'%')\n",
        "\n",
        "corpus_word_list['count'] = corpus_word_count_table['count']\n",
        "# Remove the count for the start and end of sentence notation so \n",
        "# that these do not inflate the other probabilities\n",
        "corpus_word_list['count'] = np.where(corpus_word_list['words'] == '<s' , 0,\n",
        "                     np.where(corpus_word_list['words'] == '/s>', 0,\n",
        "                     corpus_word_list['count']))\n",
        "corpus_word_list['prob'] = corpus_word_list['count']/sum(corpus_word_list['count'])\n",
        "\n",
        "\n",
        "\n"
      ],
      "execution_count": null,
      "outputs": []
    },
    {
      "cell_type": "code",
      "metadata": {
        "trusted": true,
        "_uuid": "eb5a1c9834ccc1009424584afbbb876656cbcbdc",
        "id": "Gtq6uWJd5x35"
      },
      "source": [
        "corpus_word_list.head()"
      ],
      "execution_count": null,
      "outputs": []
    },
    {
      "cell_type": "code",
      "metadata": {
        "trusted": true,
        "_uuid": "41f5dc35cbe3295bccfa4a765e434d90911b6a2b",
        "id": "7Xk3EsEN5x39"
      },
      "source": [
        "# Test set word probabilities\n",
        "test_word_list = pd.DataFrame({'words':test.str.split(' ', expand = True).stack().unique()})\n",
        "test_word_count_table = pd.DataFrame()\n",
        "for n,word in enumerate(test_word_list['words']):\n",
        "    # Create a list of just the word we are interested in, we use regular expressions so that part of words do not count\n",
        "    # e.g. 'ear' would be counted in each appearance of the word 'year'\n",
        "    test_word_count = len(re.findall(' ' + word + ' ', test_list))  \n",
        "    test_word_count_table = test_word_count_table.append(pd.DataFrame({'count':test_word_count}, index=[n]))\n",
        "    \n",
        "    clear_output(wait=True)\n",
        "    print('Proportion of words completed:', np.round(n/len(test_word_list),4)*100,'%')\n",
        "\n",
        "test_word_list['count'] = test_word_count_table['count']\n",
        "# Remove the count for the start and end of sentence notation so \n",
        "# that these do not inflate the other probabilities\n",
        "test_word_list['count'] = np.where(test_word_list['words'] == '<s' , 0,\n",
        "                     np.where(test_word_list['words'] == '/s>', 0,\n",
        "                     test_word_list['count']))\n",
        "test_word_list['prob'] = test_word_list['count']/sum(test_word_list['count'])\n",
        "\n"
      ],
      "execution_count": null,
      "outputs": []
    },
    {
      "cell_type": "code",
      "metadata": {
        "trusted": true,
        "_uuid": "4766f0d8deebd21f57dfea6c44bc07fe494f7b46",
        "id": "Zb5yWPFO5x4B"
      },
      "source": [
        "test_word_list.head()"
      ],
      "execution_count": null,
      "outputs": []
    },
    {
      "cell_type": "code",
      "metadata": {
        "trusted": true,
        "_uuid": "c20fb2ff724d3b61513c8dffbae10c7f173938ce",
        "id": "HGI_sAXZ5x4E"
      },
      "source": [
        "# Merge corpus counts to test set and replace missing values with 0\n",
        "test_word_list_2 = test_word_list.merge(corpus_word_list[['words','count']], how='left', on = 'words')\n",
        "test_word_list_2['count_y'].fillna(0, inplace=True)\n",
        "\n",
        "test_word_list_2.head()"
      ],
      "execution_count": null,
      "outputs": []
    },
    {
      "cell_type": "code",
      "metadata": {
        "trusted": true,
        "_uuid": "193aa8a893911b98f1a3d2054f2d7b1678e2f813",
        "id": "NP-7ACy65x4H"
      },
      "source": [
        "print('Percentage of words in test set that are not contained in corpus',len(test_word_list_2[test_word_list_2['count_y']==0])/len(test_word_list_2)*100,'%')"
      ],
      "execution_count": null,
      "outputs": []
    },
    {
      "cell_type": "code",
      "metadata": {
        "trusted": true,
        "_uuid": "e862982f8a7b7ef70f8d695e4df5c8c0e7ba8fb4",
        "id": "CBqqMx115x4N"
      },
      "source": [
        "# Extract missing words from training set\n",
        "missing_words = test_word_list_2[test_word_list_2['count_y']==0]\n",
        "missing_words = missing_words[(missing_words['words']!='<s')&(missing_words['words']!='/s>')]\n",
        "missing_words = missing_words[['words']]\n",
        "missing_words['count'] = 0\n",
        "missing_words['prob'] = 0\n",
        "missing_words.head()"
      ],
      "execution_count": null,
      "outputs": []
    },
    {
      "cell_type": "code",
      "metadata": {
        "trusted": true,
        "_uuid": "397f250c8b89f3741a37cda80638d2dca303ec36",
        "id": "Wxe6E60r5x4R"
      },
      "source": [
        "# Add missing words onto end of corpus word list and apply laplace +1 smoothing\n",
        "corpus_word_list_fixed = corpus_word_list.append(missing_words)\n",
        "\n",
        "corpus_word_list_fixed['count+1'] = corpus_word_list_fixed['count']+1\n",
        "corpus_word_list_fixed['prob+1'] = corpus_word_list_fixed['count+1']/sum(corpus_word_list_fixed['count+1'])\n",
        "corpus_word_list_fixed.head()"
      ],
      "execution_count": null,
      "outputs": []
    },
    {
      "cell_type": "code",
      "metadata": {
        "trusted": true,
        "_uuid": "d289519c4f674f0f26d674e8ddd817aaeb405685",
        "id": "la2JsnUn5x4V"
      },
      "source": [
        "# Plot distribution before and after Laplace +1 Smoothing\n",
        "sns.distplot(corpus_word_list_fixed[corpus_word_list_fixed['count']<=15]['count'], label='Before')\n",
        "sns.distplot(corpus_word_list_fixed[corpus_word_list_fixed['count']<=15]['count+1'], label='After +1 Smoothing')\n",
        "\n",
        "plt.legend()\n",
        "plt.title('Distribution of Word Counts Before/After \\n Laplace +1 Smoothing')\n",
        "plt.xlabel('Word Count Bin')\n",
        "plt.ylabel('Count')\n",
        "plt.show()"
      ],
      "execution_count": null,
      "outputs": []
    },
    {
      "cell_type": "markdown",
      "metadata": {
        "_uuid": "2d0cf0a6c33f6f283d6b047de051ea3a8a3db0d3",
        "id": "VkU7R-8Z5x4Y"
      },
      "source": [
        "### X. Futher Smoothing Methods\n",
        "\n",
        "Laplace +1 smoothing is used in text classification and domains where the number of zeros isn't large. However, it is not often used for n-grams, some better smothing methods for n-grams are:\n",
        "\n",
        "- Add-k Laplace Smoothing\n",
        "- Good-Turing\n",
        "- Kenser-Ney\n",
        "- Witten-Bell\n"
      ]
    },
    {
      "cell_type": "markdown",
      "metadata": {
        "_uuid": "d26473578fc19bd4c35eae301dd2a45c9a9eb155",
        "id": "NbzcRg7R5x4Y"
      },
      "source": [
        "---\n",
        "---\n",
        "# Part 4\n",
        "\n",
        "## Selecting the Language Model to Use\n",
        "\n",
        "We have introduced the first three LMs (unigram, bigram and trigram) but which is best to use?\n",
        "\n",
        "Trigrams are generally provide better outputs than bigrams and bigrams provide better outputs than unigrams but as we increase the complexity the computation time becomes increasingly large. Furthermore, the amount of data available decreases as we increase n (i.e. there will be far fewer next words available in a 10-gram than a bigram model).\n",
        "\n",
        "## XI. Back-off Method: Use trigrams (or higher n model) if there is good evidence to, else use bigrams (or other simpler n-gram model).\n",
        "\n",
        "## XII. Interpolation: Use a mixture of n-gram models\n",
        "\n",
        "### Defn: Simple Interpolation:\n",
        "\n",
        "\\begin{equation}\n",
        "    P(w_3|w_1,w_2) = \\lambda_1 P(w3|w_1,w_2) + \\lambda_2 P(w_3|w_2) + \\lambda_3 P(w_3)\n",
        "\\end{equation}\n",
        "\n",
        "where $\\sum_{i} \\lambda_i = 1$.\n",
        "\n",
        "### Defn: Contidional Context Interpolation:\n",
        "\n",
        "\\begin{equation}\n",
        "    P(w_3|w_1,w_2) = \\lambda_1 (w_{1}^{2})P(w3|w_1,w_2) + \\lambda_2 (w_{1}^{2})P(w_3|w_2) + \\lambda_3 (w_{1}^{2})P(w_3)\n",
        "\\end{equation}\n",
        "\n",
        "\n",
        "### Calculating $\\lambda$s:\n",
        "\n",
        "Using a held-out subset of the corpus (validation set), find $\\lambda$s that maximise the probability of the held out data:\n",
        "\n",
        "\\begin{equation}\n",
        "    P(w_1,w_2,...,w_n|M(\\lambda_1,\\lambda_2,...,\\lambda_k)) = \\sum_i log P_{M(\\lambda_1,\\lambda_2,...,\\lambda_k)}(w_i|w_{i-1})\n",
        "\\end{equation}\n",
        "\n",
        "Where unknown words are assigned an unknown word token '<Ukn'.\n",
        "\n",
        "\n",
        "### Small Interpolation Example\n",
        "\n",
        "Say we are given the following corpus:\n",
        "\n",
        "- <s I am Sam /s>\n",
        "- <s Sam I am /s>\n",
        "- <s I am Sam /s>\n",
        "- <s I do not like green eggs and Sam /s>\n",
        "\n",
        "Using linear interpolation smoothing with a bigram and unigram model with $\\lambda_1 = \\frac{1}{2}$ and $\\lambda_2 = \\frac{1}{2}$, what is $P(Sam|am)$? (note: include '<s' and '/s>' in calculations)\n",
        "\n",
        "Using the following equation:\n",
        "\n",
        "\\begin{equation}\n",
        "    P(w_2|w_1) = lambda_1 P(w_2|w1) + lambda_2 P(w2)\n",
        "\\end{equation}\n",
        "\n",
        "We have in our case:\n",
        "\n",
        "\\begin{equation}\n",
        "    P(Sam|am) = \\frac{1}{2} P(Sam|am) + \\frac{1}{2} P(Sam)\n",
        "\\end{equation}\n",
        "\n",
        "where \n",
        "\n",
        "\\begin{equation}\n",
        "    P(Sam|am) = \\frac{count(am, Sam)}{count(am)} = \\frac{2}{3}\n",
        "\\end{equation}\n",
        "\n",
        "and\n",
        "\n",
        "\\begin{equation}\n",
        "    P(Sam) = \\frac{count(Sam)}{Total \\ num \\ words} = \\frac{4}{25}\n",
        "\\end{equation}\n",
        "\n",
        "Therefore,\n",
        "\n",
        "\\begin{equation}\n",
        "    P(Sam|am) = \\frac{1}{2}*\\frac{2}{3} + \\frac{1}{2}*\\frac{4}{25} \\approx 0.413\n",
        "\\end{equation}\n",
        "\n"
      ]
    },
    {
      "cell_type": "markdown",
      "metadata": {
        "_uuid": "a4bb07f2aa80920356bbbe55aea309f6e7dbba85",
        "id": "Ulhdom-L5x4a"
      },
      "source": [
        "### Interpolation Example with IMDB Data\n",
        "\n",
        "Say we start with the corpus defined in the previous part, we again take a small subset of this as the 'hold-out' set."
      ]
    },
    {
      "cell_type": "code",
      "metadata": {
        "trusted": true,
        "_uuid": "b34ec519f4485a4ff9a9008ce4b0fa026fb7b63e",
        "id": "LWNogT2F5x4a"
      },
      "source": [
        "corpus.head()"
      ],
      "execution_count": null,
      "outputs": []
    },
    {
      "cell_type": "code",
      "metadata": {
        "trusted": true,
        "_uuid": "f3a942086849d19e35dbfb9553549de236b91671",
        "id": "hOHUdTO65x4c"
      },
      "source": [
        "corpus_2 = corpus[:int(np.round(len(corpus)*0.9,0))]\n",
        "hold_out = corpus[int(np.round(len(corpus)*0.9,0))+1:]\n",
        "\n",
        "corpus_2_list = \" \".join(map(str, corpus_2))\n",
        "hold_out_list = \" \".join(map(str, hold_out))\n"
      ],
      "execution_count": null,
      "outputs": []
    },
    {
      "cell_type": "code",
      "metadata": {
        "trusted": true,
        "_uuid": "e5be7f8cb36312d1525bc2d36285246155295841",
        "id": "FdxWWONG5x4g"
      },
      "source": [
        "# Test set word probabilities\n",
        "hold_out_word_list = pd.DataFrame({'words':hold_out.str.split(' ', expand = True).stack().unique()})\n",
        "hold_out_word_count_table = pd.DataFrame()\n",
        "for n,word in enumerate(hold_out_word_list['words']):\n",
        "    # Create a list of just the word we are interested in, we use regular expressions so that part of words do not count\n",
        "    # e.g. 'ear' would be counted in each appearance of the word 'year'\n",
        "    hold_out_word_count = len(re.findall(' ' + word + ' ', hold_out_list))  \n",
        "    hold_out_word_count_table = hold_out_word_count_table.append(pd.DataFrame({'count':hold_out_word_count}, index=[n]))\n",
        "    \n",
        "    clear_output(wait=True)\n",
        "    print('Proportion of words completed:', np.round(n/len(hold_out_word_list),4)*100,'%')\n",
        "\n",
        "hold_out_word_list['count'] = hold_out_word_count_table['count']\n",
        "# Remove the count for the start and end of sentence notation so \n",
        "# that these do not inflate the other probabilities\n",
        "hold_out_word_list['count'] = np.where(hold_out_word_list['words'] == '<s' , 0,\n",
        "                     np.where(hold_out_word_list['words'] == '/s>', 0,\n",
        "                     hold_out_word_list['count']))\n",
        "hold_out_word_list['prob'] = hold_out_word_list['count']/sum(hold_out_word_list['count'])\n",
        "\n"
      ],
      "execution_count": null,
      "outputs": []
    },
    {
      "cell_type": "code",
      "metadata": {
        "trusted": true,
        "_uuid": "742a286015510a24c9ed624a8cdbea37862eba43",
        "id": "a6EeFEHX5x4i"
      },
      "source": [
        "hold_out_Matrix = pd.DataFrame({'words': hold_out_word_list['words']})\n",
        "\n",
        "start_time = time.time()\n",
        "\n",
        "\n",
        "# Add limits to number of columns/rows so this doesn't run for ages\n",
        "column_lim = 100\n",
        "#column_lim = len(W_W_Matrix)\n",
        "row_lim = 10\n",
        "#row_lim = len(W_W_Matrix)\n",
        "\n",
        "for r, column in enumerate(hold_out_Matrix['words'][0:column_lim]):\n",
        "    \n",
        "    prob_table = pd.DataFrame()\n",
        "    for i, row in enumerate(hold_out_Matrix['words'][0:row_lim]):\n",
        "\n",
        "        word_1 = ' ' + str(row) + ' '\n",
        "        word_2 = str(column) + ' '\n",
        "\n",
        "        if len(re.findall(word_1, hold_out_list)) == 0:\n",
        "            prob = pd.DataFrame({'prob':[0]}, index=[i])\n",
        "        else:\n",
        "            prob = pd.DataFrame({'prob':[len(re.findall(word_1 + word_2, hold_out_list)) / len(re.findall(word_1, hold_out_list)) ]}, index=[i])\n",
        "        \n",
        "        prob_table = prob_table.append(prob)\n",
        "    hold_out_Matrix[str(column)] = prob_table['prob']\n",
        "    \n",
        "    # Outputs progress of main loop, see:\n",
        "    clear_output(wait=True)\n",
        "    print('Proportion of column words completed:', np.round(r/len(hold_out_Matrix[0:column_lim]),2)*100,'%')\n",
        "    \n",
        "end_time = time.time()\n",
        "print('Total run time = ', np.round(end_time-start_time,2)/60, ' minutes')\n"
      ],
      "execution_count": null,
      "outputs": []
    },
    {
      "cell_type": "code",
      "metadata": {
        "trusted": true,
        "_uuid": "ddbc7bb28c6fe8f6770c9c3acd7fcc4b3d422982",
        "id": "t9HaQBo15x4l"
      },
      "source": [
        "hold_out_Matrix.head(20)"
      ],
      "execution_count": null,
      "outputs": []
    },
    {
      "cell_type": "code",
      "metadata": {
        "trusted": true,
        "_uuid": "e2f3df397165e94abd6ba87b42190181b408d238",
        "id": "gtO0Cr8e5x4n"
      },
      "source": [
        "hold_out_Matrix['words'] = hold_out_word_list['words']"
      ],
      "execution_count": null,
      "outputs": []
    },
    {
      "cell_type": "markdown",
      "metadata": {
        "_uuid": "bce9152f87860efa814adac13db79e669f5bbb5b",
        "id": "rsiYDtI85x4p"
      },
      "source": [
        "#### The matrix defines the probability of the column given the row (i.e. P(column_header|row_header)).\n",
        "\n",
        "#### Therefore, we add the probability of the column word (as the second word, to each. "
      ]
    },
    {
      "cell_type": "code",
      "metadata": {
        "trusted": true,
        "_uuid": "568df4202053415f237cdc8c910054d482af9d74",
        "id": "N2vbB0m15x4q"
      },
      "source": [
        "lambda_1 = 0.5\n",
        "lambda_2 = 0.5\n",
        "\n",
        "# Create copy so we dont have to re-calculate original\n",
        "hold_out_Matrix_2 = hold_out_Matrix.copy()\n",
        "hold_out_Matrix_2 = hold_out_Matrix_2.dropna()\n",
        "# Extract 'words' column \n",
        "hold_out_Matrix_3 = pd.DataFrame({'words':hold_out_Matrix_2.iloc[:,0]})\n",
        "hold_out_Matrix_2 = hold_out_Matrix_2.iloc[:,1:]\n",
        "\n",
        "# Multiply bigrams by lambda 1\n",
        "hold_out_Matrix_2 = lambda_1*hold_out_Matrix_2\n",
        "\n",
        "for n,column in enumerate(list(hold_out_Matrix_2)):\n",
        "    column_prob = hold_out_word_list[hold_out_word_list['words']==column]['prob'].iloc[0]\n",
        "    column_prob = lambda_2*column_prob\n",
        "    \n",
        "    hold_out_Matrix_3[str(column)] = hold_out_Matrix_2[column] + column_prob\n",
        "    \n",
        "    # Outputs progress of main loop, see:\n",
        "    clear_output(wait=True)\n",
        "    print('Proportion of column words completed:', np.round(n/len(list(hold_out_Matrix_2)),2)*100,'%')\n",
        "    \n",
        "# Sum probabilities of matrix (remove word column from calculation)\n",
        "total_prob = hold_out_Matrix_3.iloc[:,1:].values.sum()\n"
      ],
      "execution_count": null,
      "outputs": []
    },
    {
      "cell_type": "code",
      "metadata": {
        "trusted": true,
        "_uuid": "49ed9a4116c143defc873074e3c130c2ecd3a675",
        "id": "yLKwU0M25x4s"
      },
      "source": [
        "print(total_prob)"
      ],
      "execution_count": null,
      "outputs": []
    },
    {
      "cell_type": "markdown",
      "metadata": {
        "_uuid": "b6af983bd71269f4871470afa87770fe0bc8c47d",
        "id": "P4K22kuK5x4u"
      },
      "source": [
        "#### Exhaustively applying method to find the optimal Lambda parameters that maximise the total probability of the hold-out subset.\n",
        "\n",
        "Note because lambda_1 + lambda_2 = 1 then we can define lambda_2 w.r.t. the chosen lambda_1 value."
      ]
    },
    {
      "cell_type": "code",
      "metadata": {
        "trusted": true,
        "_uuid": "ab94a549773a29e8563247e12d368d57ad14ec81",
        "id": "TQzjK5nW5x4v"
      },
      "source": [
        "output_table = pd.DataFrame()\n",
        "\n",
        "for x in range(0,11):\n",
        "    lambda_1 = x/10\n",
        "    lambda_2 = 1-lambda_1\n",
        "        \n",
        "    # Create copy so we dont have to re-calculate original\n",
        "    hold_out_Matrix_2 = hold_out_Matrix.copy()\n",
        "    hold_out_Matrix_2 = hold_out_Matrix_2.dropna()\n",
        "    # Extract 'words' column \n",
        "    hold_out_Matrix_3 = pd.DataFrame({'words':hold_out_Matrix_2.iloc[:,0]})\n",
        "    hold_out_Matrix_2 = hold_out_Matrix_2.iloc[:,1:]\n",
        "\n",
        "    # Multiply bigrams by lambda 1\n",
        "    hold_out_Matrix_2 = lambda_1*hold_out_Matrix_2\n",
        "\n",
        "    for n,column in enumerate(list(hold_out_Matrix_2)):\n",
        "        column_prob = hold_out_word_list[hold_out_word_list['words']==column]['prob'].iloc[0]\n",
        "        column_prob = lambda_2*column_prob\n",
        "\n",
        "        hold_out_Matrix_3[str(column)] = hold_out_Matrix_2[column] + column_prob\n",
        "\n",
        "        # Outputs progress of main loop, see:\n",
        "        clear_output(wait=True)\n",
        "        print('Current lambda 1 value:', np.round(lambda_1,2))\n",
        "        print('Current lambda 2 value:', np.round(lambda_2,2)) \n",
        "        print('Proportion of column words completed:', np.round(n/len(list(hold_out_Matrix_2)),2)*100,'%')\n",
        "\n",
        "\n",
        "    # Sum probabilities of matrix (remove word column from calculation)\n",
        "    total_prob = hold_out_Matrix_3.iloc[:,1:].values.sum()\n",
        "    output_table = output_table.append(pd.DataFrame({'lambda_1':lambda_1,\n",
        "                                                     'lambda_2':lambda_2,\n",
        "                                                     'total_prob':total_prob}, index = [x]))"
      ],
      "execution_count": null,
      "outputs": []
    },
    {
      "cell_type": "code",
      "metadata": {
        "trusted": true,
        "_uuid": "59bdde3ab22ed0b229f05257466d0fc8098224f6",
        "id": "c8Y5bCmI5x4x"
      },
      "source": [
        "output_table.head()"
      ],
      "execution_count": null,
      "outputs": []
    },
    {
      "cell_type": "code",
      "metadata": {
        "trusted": true,
        "_uuid": "3dc70df42dc6e2404ffae9eb3e0edd66092d9cb1",
        "id": "bG23J_7q5x4z"
      },
      "source": [
        "output_table['lambda_1_2'] = 'L1:' + output_table['lambda_1'].astype(str) +' /L2: '+ output_table['lambda_2'].astype(str)\n",
        "        \n",
        "plt.bar(output_table['lambda_1_2'], output_table['total_prob'])\n",
        "plt.title(\"Total Probability of Hold-out Set after \\n Applying Simple Interpolation\")\n",
        "plt.xlabel('Lambda 1 and Lambda 2 Parameters')\n",
        "plt.xticks(output_table['lambda_1_2'], rotation='vertical')\n",
        "plt.xlabel('Total Probability')\n",
        "plt.show()"
      ],
      "execution_count": null,
      "outputs": []
    },
    {
      "cell_type": "code",
      "metadata": {
        "trusted": true,
        "_uuid": "a481fc51841946226b09e05882ab726d938f1ef0",
        "id": "viq4PxJm5x44"
      },
      "source": [
        "optimal_lambda_1 = output_table[output_table['total_prob']==max(output_table['total_prob'])].iloc[0]['lambda_1']\n",
        "optimal_lambda_2 = output_table[output_table['total_prob']==max(output_table['total_prob'])].iloc[0]['lambda_2']\n",
        "\n",
        "print(\"Optimal Lambda 1 = \", optimal_lambda_1)\n",
        "print(\"Optimal Lambda 2 = \", optimal_lambda_2)"
      ],
      "execution_count": null,
      "outputs": []
    },
    {
      "cell_type": "markdown",
      "metadata": {
        "_uuid": "d243c346eeb3ab730e3e936d989c033e6522bef6",
        "id": "R2ppurP25x46"
      },
      "source": [
        ""
      ]
    }
  ]
}